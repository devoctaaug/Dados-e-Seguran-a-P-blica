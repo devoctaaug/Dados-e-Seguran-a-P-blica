{
  "nbformat": 4,
  "nbformat_minor": 0,
  "metadata": {
    "colab": {
      "provenance": []
    },
    "kernelspec": {
      "name": "python3",
      "display_name": "Python 3"
    },
    "language_info": {
      "name": "python"
    }
  },
  "cells": [
    {
      "cell_type": "code",
      "execution_count": 2,
      "metadata": {
        "id": "i4STsviIa3Gb"
      },
      "outputs": [],
      "source": [
        "import pandas as pd\n",
        "import numpy as np\n",
        "import matplotlib.pyplot as plt\n",
        "import seaborn as sns\n",
        "%matplotlib inline\n",
        "sns.set_style();"
      ]
    },
    {
      "cell_type": "code",
      "source": [
        "df = pd.read_csv('https://www.dropbox.com/s/ghgb8xggbhgyuk3/dataset-limpo.csv?dl=1', parse_dates=['time'])\n",
        "\n",
        "df.index = pd.to_datetime(df['time'], infer_datetime_format=True)\n",
        "\n",
        "df.head(1)"
      ],
      "metadata": {
        "colab": {
          "base_uri": "https://localhost:8080/",
          "height": 238
        },
        "id": "JAGihaQbbznO",
        "outputId": "88a22d38-38cb-41c7-e31b-232a287ad69d"
      },
      "execution_count": 3,
      "outputs": [
        {
          "output_type": "execute_result",
          "data": {
            "text/plain": [
              "                        id   bairro               created_at  \\\n",
              "time                                                           \n",
              "2010-12-20 20:30:00  49787  Butantã  2015-06-16 23:34:01.000   \n",
              "\n",
              "                                                             descricao  \\\n",
              "time                                                                     \n",
              "2010-12-20 20:30:00  5 bandidos, armas, entraram em casa e vasculha...   \n",
              "\n",
              "                                                  endereco   id.1  \\\n",
              "time                                                                \n",
              "2010-12-20 20:30:00  Avenida Trona Constanzo, 177, Butantã  49787   \n",
              "\n",
              "                    ip_address_origin   latitude  longitude registrou_bo  ...  \\\n",
              "time                                                                      ...   \n",
              "2010-12-20 20:30:00               NaN -23.580973 -46.719192         True  ...   \n",
              "\n",
              "                     Estepe  MP4 ou Ipod Móveis Notebook  Outros  Relógio  \\\n",
              "time                                                                        \n",
              "2010-12-20 20:30:00     NaN         True    NaN     True     NaN      NaN   \n",
              "\n",
              "                      Som Tablet    Tv                time  \n",
              "time                                                        \n",
              "2010-12-20 20:30:00  True   True  True 2010-12-20 20:30:00  \n",
              "\n",
              "[1 rows x 36 columns]"
            ],
            "text/html": [
              "\n",
              "  <div id=\"df-3fc66090-1282-400d-82d8-e2951eac3880\">\n",
              "    <div class=\"colab-df-container\">\n",
              "      <div>\n",
              "<style scoped>\n",
              "    .dataframe tbody tr th:only-of-type {\n",
              "        vertical-align: middle;\n",
              "    }\n",
              "\n",
              "    .dataframe tbody tr th {\n",
              "        vertical-align: top;\n",
              "    }\n",
              "\n",
              "    .dataframe thead th {\n",
              "        text-align: right;\n",
              "    }\n",
              "</style>\n",
              "<table border=\"1\" class=\"dataframe\">\n",
              "  <thead>\n",
              "    <tr style=\"text-align: right;\">\n",
              "      <th></th>\n",
              "      <th>id</th>\n",
              "      <th>bairro</th>\n",
              "      <th>created_at</th>\n",
              "      <th>descricao</th>\n",
              "      <th>endereco</th>\n",
              "      <th>id.1</th>\n",
              "      <th>ip_address_origin</th>\n",
              "      <th>latitude</th>\n",
              "      <th>longitude</th>\n",
              "      <th>registrou_bo</th>\n",
              "      <th>...</th>\n",
              "      <th>Estepe</th>\n",
              "      <th>MP4 ou Ipod</th>\n",
              "      <th>Móveis</th>\n",
              "      <th>Notebook</th>\n",
              "      <th>Outros</th>\n",
              "      <th>Relógio</th>\n",
              "      <th>Som</th>\n",
              "      <th>Tablet</th>\n",
              "      <th>Tv</th>\n",
              "      <th>time</th>\n",
              "    </tr>\n",
              "    <tr>\n",
              "      <th>time</th>\n",
              "      <th></th>\n",
              "      <th></th>\n",
              "      <th></th>\n",
              "      <th></th>\n",
              "      <th></th>\n",
              "      <th></th>\n",
              "      <th></th>\n",
              "      <th></th>\n",
              "      <th></th>\n",
              "      <th></th>\n",
              "      <th></th>\n",
              "      <th></th>\n",
              "      <th></th>\n",
              "      <th></th>\n",
              "      <th></th>\n",
              "      <th></th>\n",
              "      <th></th>\n",
              "      <th></th>\n",
              "      <th></th>\n",
              "      <th></th>\n",
              "      <th></th>\n",
              "    </tr>\n",
              "  </thead>\n",
              "  <tbody>\n",
              "    <tr>\n",
              "      <th>2010-12-20 20:30:00</th>\n",
              "      <td>49787</td>\n",
              "      <td>Butantã</td>\n",
              "      <td>2015-06-16 23:34:01.000</td>\n",
              "      <td>5 bandidos, armas, entraram em casa e vasculha...</td>\n",
              "      <td>Avenida Trona Constanzo, 177, Butantã</td>\n",
              "      <td>49787</td>\n",
              "      <td>NaN</td>\n",
              "      <td>-23.580973</td>\n",
              "      <td>-46.719192</td>\n",
              "      <td>True</td>\n",
              "      <td>...</td>\n",
              "      <td>NaN</td>\n",
              "      <td>True</td>\n",
              "      <td>NaN</td>\n",
              "      <td>True</td>\n",
              "      <td>NaN</td>\n",
              "      <td>NaN</td>\n",
              "      <td>True</td>\n",
              "      <td>True</td>\n",
              "      <td>True</td>\n",
              "      <td>2010-12-20 20:30:00</td>\n",
              "    </tr>\n",
              "  </tbody>\n",
              "</table>\n",
              "<p>1 rows × 36 columns</p>\n",
              "</div>\n",
              "      <button class=\"colab-df-convert\" onclick=\"convertToInteractive('df-3fc66090-1282-400d-82d8-e2951eac3880')\"\n",
              "              title=\"Convert this dataframe to an interactive table.\"\n",
              "              style=\"display:none;\">\n",
              "        \n",
              "  <svg xmlns=\"http://www.w3.org/2000/svg\" height=\"24px\"viewBox=\"0 0 24 24\"\n",
              "       width=\"24px\">\n",
              "    <path d=\"M0 0h24v24H0V0z\" fill=\"none\"/>\n",
              "    <path d=\"M18.56 5.44l.94 2.06.94-2.06 2.06-.94-2.06-.94-.94-2.06-.94 2.06-2.06.94zm-11 1L8.5 8.5l.94-2.06 2.06-.94-2.06-.94L8.5 2.5l-.94 2.06-2.06.94zm10 10l.94 2.06.94-2.06 2.06-.94-2.06-.94-.94-2.06-.94 2.06-2.06.94z\"/><path d=\"M17.41 7.96l-1.37-1.37c-.4-.4-.92-.59-1.43-.59-.52 0-1.04.2-1.43.59L10.3 9.45l-7.72 7.72c-.78.78-.78 2.05 0 2.83L4 21.41c.39.39.9.59 1.41.59.51 0 1.02-.2 1.41-.59l7.78-7.78 2.81-2.81c.8-.78.8-2.07 0-2.86zM5.41 20L4 18.59l7.72-7.72 1.47 1.35L5.41 20z\"/>\n",
              "  </svg>\n",
              "      </button>\n",
              "      \n",
              "  <style>\n",
              "    .colab-df-container {\n",
              "      display:flex;\n",
              "      flex-wrap:wrap;\n",
              "      gap: 12px;\n",
              "    }\n",
              "\n",
              "    .colab-df-convert {\n",
              "      background-color: #E8F0FE;\n",
              "      border: none;\n",
              "      border-radius: 50%;\n",
              "      cursor: pointer;\n",
              "      display: none;\n",
              "      fill: #1967D2;\n",
              "      height: 32px;\n",
              "      padding: 0 0 0 0;\n",
              "      width: 32px;\n",
              "    }\n",
              "\n",
              "    .colab-df-convert:hover {\n",
              "      background-color: #E2EBFA;\n",
              "      box-shadow: 0px 1px 2px rgba(60, 64, 67, 0.3), 0px 1px 3px 1px rgba(60, 64, 67, 0.15);\n",
              "      fill: #174EA6;\n",
              "    }\n",
              "\n",
              "    [theme=dark] .colab-df-convert {\n",
              "      background-color: #3B4455;\n",
              "      fill: #D2E3FC;\n",
              "    }\n",
              "\n",
              "    [theme=dark] .colab-df-convert:hover {\n",
              "      background-color: #434B5C;\n",
              "      box-shadow: 0px 1px 3px 1px rgba(0, 0, 0, 0.15);\n",
              "      filter: drop-shadow(0px 1px 2px rgba(0, 0, 0, 0.3));\n",
              "      fill: #FFFFFF;\n",
              "    }\n",
              "  </style>\n",
              "\n",
              "      <script>\n",
              "        const buttonEl =\n",
              "          document.querySelector('#df-3fc66090-1282-400d-82d8-e2951eac3880 button.colab-df-convert');\n",
              "        buttonEl.style.display =\n",
              "          google.colab.kernel.accessAllowed ? 'block' : 'none';\n",
              "\n",
              "        async function convertToInteractive(key) {\n",
              "          const element = document.querySelector('#df-3fc66090-1282-400d-82d8-e2951eac3880');\n",
              "          const dataTable =\n",
              "            await google.colab.kernel.invokeFunction('convertToInteractive',\n",
              "                                                     [key], {});\n",
              "          if (!dataTable) return;\n",
              "\n",
              "          const docLinkHtml = 'Like what you see? Visit the ' +\n",
              "            '<a target=\"_blank\" href=https://colab.research.google.com/notebooks/data_table.ipynb>data table notebook</a>'\n",
              "            + ' to learn more about interactive tables.';\n",
              "          element.innerHTML = '';\n",
              "          dataTable['output_type'] = 'display_data';\n",
              "          await google.colab.output.renderOutput(dataTable, element);\n",
              "          const docLink = document.createElement('div');\n",
              "          docLink.innerHTML = docLinkHtml;\n",
              "          element.appendChild(docLink);\n",
              "        }\n",
              "      </script>\n",
              "    </div>\n",
              "  </div>\n",
              "  "
            ]
          },
          "metadata": {},
          "execution_count": 3
        }
      ]
    },
    {
      "cell_type": "code",
      "source": [
        "df.info()"
      ],
      "metadata": {
        "colab": {
          "base_uri": "https://localhost:8080/"
        },
        "id": "Sb3c8U9IcMGO",
        "outputId": "ccb15811-daac-4674-f4c0-a5a558a1f124"
      },
      "execution_count": 5,
      "outputs": [
        {
          "output_type": "stream",
          "name": "stdout",
          "text": [
            "<class 'pandas.core.frame.DataFrame'>\n",
            "DatetimeIndex: 12899 entries, 2010-12-20 20:30:00 to 2012-03-02 09:44:00\n",
            "Data columns (total 36 columns):\n",
            " #   Column              Non-Null Count  Dtype         \n",
            "---  ------              --------------  -----         \n",
            " 0   id                  12899 non-null  int64         \n",
            " 1   bairro              11196 non-null  object        \n",
            " 2   created_at          12899 non-null  object        \n",
            " 3   descricao           12898 non-null  object        \n",
            " 4   endereco            12899 non-null  object        \n",
            " 5   id.1                12899 non-null  int64         \n",
            " 6   ip_address_origin   11705 non-null  object        \n",
            " 7   latitude            12899 non-null  float64       \n",
            " 8   longitude           12899 non-null  float64       \n",
            " 9   registrou_bo        12375 non-null  object        \n",
            " 10  sexo                12899 non-null  int64         \n",
            " 11  tipo_assalto_id     12899 non-null  int64         \n",
            " 12  titulo              12899 non-null  object        \n",
            " 13  uri                 12899 non-null  object        \n",
            " 14  user_id             1166 non-null   float64       \n",
            " 15  valor_prejuizo      12899 non-null  float64       \n",
            " 16  Bicicleta           256 non-null    object        \n",
            " 17  Bolsa ou Mochila    3631 non-null   object        \n",
            " 18  Carteira            4243 non-null   object        \n",
            " 19  Cartão de Crédito   2776 non-null   object        \n",
            " 20  Celular             8377 non-null   object        \n",
            " 21  Computador          112 non-null    object        \n",
            " 22  DVD                 94 non-null     object        \n",
            " 23  Dinheiro            1730 non-null   object        \n",
            " 24  Documentos          3660 non-null   object        \n",
            " 25  Equipamento de Som  239 non-null    object        \n",
            " 26  Estepe              324 non-null    object        \n",
            " 27  MP4 ou Ipod         552 non-null    object        \n",
            " 28  Móveis              45 non-null     object        \n",
            " 29  Notebook            764 non-null    object        \n",
            " 30  Outros              5243 non-null   object        \n",
            " 31  Relógio             1350 non-null   object        \n",
            " 32  Som                 106 non-null    object        \n",
            " 33  Tablet              443 non-null    object        \n",
            " 34  Tv                  178 non-null    object        \n",
            " 35  time                12899 non-null  datetime64[ns]\n",
            "dtypes: datetime64[ns](1), float64(4), int64(4), object(27)\n",
            "memory usage: 3.6+ MB\n"
          ]
        }
      ]
    },
    {
      "cell_type": "code",
      "source": [
        "def genero (i):\n",
        "  if i == 1:\n",
        "    return 'MASCULINO'\n",
        "  else:\n",
        "    return 'FEMININO'\n",
        "  \n",
        "df['sexo'] = df['sexo'].apply(lambda i: genero(i))"
      ],
      "metadata": {
        "id": "O8RtdZNucMe7"
      },
      "execution_count": 9,
      "outputs": []
    },
    {
      "cell_type": "code",
      "source": [
        "df.describe(include='O')"
      ],
      "metadata": {
        "colab": {
          "base_uri": "https://localhost:8080/",
          "height": 335
        },
        "id": "UXG--qsgdWW0",
        "outputId": "1dda5120-292e-41c3-ba53-be8c55c570ee"
      },
      "execution_count": 13,
      "outputs": [
        {
          "output_type": "execute_result",
          "data": {
            "text/plain": [
              "           bairro               created_at  \\\n",
              "count       11196                    12899   \n",
              "unique       1577                    12899   \n",
              "top     São Paulo  2015-06-16 23:34:01.000   \n",
              "freq          630                        1   \n",
              "\n",
              "                                                descricao  \\\n",
              "count                                               12898   \n",
              "unique                                              12898   \n",
              "top     5 bandidos, armas, entraram em casa e vasculha...   \n",
              "freq                                                    1   \n",
              "\n",
              "                   endereco ip_address_origin registrou_bo       sexo  \\\n",
              "count                 12899             11705        12375      12899   \n",
              "unique                11986             10432            2          2   \n",
              "top     Carregando endereço         127.0.0.1         True  MASCULINO   \n",
              "freq                     15                94         7340       7901   \n",
              "\n",
              "                                    titulo  \\\n",
              "count                                12899   \n",
              "unique                               10169   \n",
              "top     Fui assaltado voltando do trabalho   \n",
              "freq                                   154   \n",
              "\n",
              "                                                      uri Bicicleta  ...  \\\n",
              "count                                               12899       256  ...   \n",
              "unique                                              12899         1  ...   \n",
              "top     /denuncias/a71rZe-entraram-na-minha-casa-e-fic...      True  ...   \n",
              "freq                                                    1       256  ...   \n",
              "\n",
              "       Equipamento de Som Estepe MP4 ou Ipod Móveis Notebook Outros Relógio  \\\n",
              "count                 239    324         552     45      764   5243    1350   \n",
              "unique                  1      1           1      1        1      1       1   \n",
              "top                  True   True        True   True     True   True    True   \n",
              "freq                  239    324         552     45      764   5243    1350   \n",
              "\n",
              "         Som Tablet    Tv  \n",
              "count    106    443   178  \n",
              "unique     1      1     1  \n",
              "top     True   True  True  \n",
              "freq     106    443   178  \n",
              "\n",
              "[4 rows x 28 columns]"
            ],
            "text/html": [
              "\n",
              "  <div id=\"df-07f61889-822d-4517-b40d-c27559e02ba0\">\n",
              "    <div class=\"colab-df-container\">\n",
              "      <div>\n",
              "<style scoped>\n",
              "    .dataframe tbody tr th:only-of-type {\n",
              "        vertical-align: middle;\n",
              "    }\n",
              "\n",
              "    .dataframe tbody tr th {\n",
              "        vertical-align: top;\n",
              "    }\n",
              "\n",
              "    .dataframe thead th {\n",
              "        text-align: right;\n",
              "    }\n",
              "</style>\n",
              "<table border=\"1\" class=\"dataframe\">\n",
              "  <thead>\n",
              "    <tr style=\"text-align: right;\">\n",
              "      <th></th>\n",
              "      <th>bairro</th>\n",
              "      <th>created_at</th>\n",
              "      <th>descricao</th>\n",
              "      <th>endereco</th>\n",
              "      <th>ip_address_origin</th>\n",
              "      <th>registrou_bo</th>\n",
              "      <th>sexo</th>\n",
              "      <th>titulo</th>\n",
              "      <th>uri</th>\n",
              "      <th>Bicicleta</th>\n",
              "      <th>...</th>\n",
              "      <th>Equipamento de Som</th>\n",
              "      <th>Estepe</th>\n",
              "      <th>MP4 ou Ipod</th>\n",
              "      <th>Móveis</th>\n",
              "      <th>Notebook</th>\n",
              "      <th>Outros</th>\n",
              "      <th>Relógio</th>\n",
              "      <th>Som</th>\n",
              "      <th>Tablet</th>\n",
              "      <th>Tv</th>\n",
              "    </tr>\n",
              "  </thead>\n",
              "  <tbody>\n",
              "    <tr>\n",
              "      <th>count</th>\n",
              "      <td>11196</td>\n",
              "      <td>12899</td>\n",
              "      <td>12898</td>\n",
              "      <td>12899</td>\n",
              "      <td>11705</td>\n",
              "      <td>12375</td>\n",
              "      <td>12899</td>\n",
              "      <td>12899</td>\n",
              "      <td>12899</td>\n",
              "      <td>256</td>\n",
              "      <td>...</td>\n",
              "      <td>239</td>\n",
              "      <td>324</td>\n",
              "      <td>552</td>\n",
              "      <td>45</td>\n",
              "      <td>764</td>\n",
              "      <td>5243</td>\n",
              "      <td>1350</td>\n",
              "      <td>106</td>\n",
              "      <td>443</td>\n",
              "      <td>178</td>\n",
              "    </tr>\n",
              "    <tr>\n",
              "      <th>unique</th>\n",
              "      <td>1577</td>\n",
              "      <td>12899</td>\n",
              "      <td>12898</td>\n",
              "      <td>11986</td>\n",
              "      <td>10432</td>\n",
              "      <td>2</td>\n",
              "      <td>2</td>\n",
              "      <td>10169</td>\n",
              "      <td>12899</td>\n",
              "      <td>1</td>\n",
              "      <td>...</td>\n",
              "      <td>1</td>\n",
              "      <td>1</td>\n",
              "      <td>1</td>\n",
              "      <td>1</td>\n",
              "      <td>1</td>\n",
              "      <td>1</td>\n",
              "      <td>1</td>\n",
              "      <td>1</td>\n",
              "      <td>1</td>\n",
              "      <td>1</td>\n",
              "    </tr>\n",
              "    <tr>\n",
              "      <th>top</th>\n",
              "      <td>São Paulo</td>\n",
              "      <td>2015-06-16 23:34:01.000</td>\n",
              "      <td>5 bandidos, armas, entraram em casa e vasculha...</td>\n",
              "      <td>Carregando endereço</td>\n",
              "      <td>127.0.0.1</td>\n",
              "      <td>True</td>\n",
              "      <td>MASCULINO</td>\n",
              "      <td>Fui assaltado voltando do trabalho</td>\n",
              "      <td>/denuncias/a71rZe-entraram-na-minha-casa-e-fic...</td>\n",
              "      <td>True</td>\n",
              "      <td>...</td>\n",
              "      <td>True</td>\n",
              "      <td>True</td>\n",
              "      <td>True</td>\n",
              "      <td>True</td>\n",
              "      <td>True</td>\n",
              "      <td>True</td>\n",
              "      <td>True</td>\n",
              "      <td>True</td>\n",
              "      <td>True</td>\n",
              "      <td>True</td>\n",
              "    </tr>\n",
              "    <tr>\n",
              "      <th>freq</th>\n",
              "      <td>630</td>\n",
              "      <td>1</td>\n",
              "      <td>1</td>\n",
              "      <td>15</td>\n",
              "      <td>94</td>\n",
              "      <td>7340</td>\n",
              "      <td>7901</td>\n",
              "      <td>154</td>\n",
              "      <td>1</td>\n",
              "      <td>256</td>\n",
              "      <td>...</td>\n",
              "      <td>239</td>\n",
              "      <td>324</td>\n",
              "      <td>552</td>\n",
              "      <td>45</td>\n",
              "      <td>764</td>\n",
              "      <td>5243</td>\n",
              "      <td>1350</td>\n",
              "      <td>106</td>\n",
              "      <td>443</td>\n",
              "      <td>178</td>\n",
              "    </tr>\n",
              "  </tbody>\n",
              "</table>\n",
              "<p>4 rows × 28 columns</p>\n",
              "</div>\n",
              "      <button class=\"colab-df-convert\" onclick=\"convertToInteractive('df-07f61889-822d-4517-b40d-c27559e02ba0')\"\n",
              "              title=\"Convert this dataframe to an interactive table.\"\n",
              "              style=\"display:none;\">\n",
              "        \n",
              "  <svg xmlns=\"http://www.w3.org/2000/svg\" height=\"24px\"viewBox=\"0 0 24 24\"\n",
              "       width=\"24px\">\n",
              "    <path d=\"M0 0h24v24H0V0z\" fill=\"none\"/>\n",
              "    <path d=\"M18.56 5.44l.94 2.06.94-2.06 2.06-.94-2.06-.94-.94-2.06-.94 2.06-2.06.94zm-11 1L8.5 8.5l.94-2.06 2.06-.94-2.06-.94L8.5 2.5l-.94 2.06-2.06.94zm10 10l.94 2.06.94-2.06 2.06-.94-2.06-.94-.94-2.06-.94 2.06-2.06.94z\"/><path d=\"M17.41 7.96l-1.37-1.37c-.4-.4-.92-.59-1.43-.59-.52 0-1.04.2-1.43.59L10.3 9.45l-7.72 7.72c-.78.78-.78 2.05 0 2.83L4 21.41c.39.39.9.59 1.41.59.51 0 1.02-.2 1.41-.59l7.78-7.78 2.81-2.81c.8-.78.8-2.07 0-2.86zM5.41 20L4 18.59l7.72-7.72 1.47 1.35L5.41 20z\"/>\n",
              "  </svg>\n",
              "      </button>\n",
              "      \n",
              "  <style>\n",
              "    .colab-df-container {\n",
              "      display:flex;\n",
              "      flex-wrap:wrap;\n",
              "      gap: 12px;\n",
              "    }\n",
              "\n",
              "    .colab-df-convert {\n",
              "      background-color: #E8F0FE;\n",
              "      border: none;\n",
              "      border-radius: 50%;\n",
              "      cursor: pointer;\n",
              "      display: none;\n",
              "      fill: #1967D2;\n",
              "      height: 32px;\n",
              "      padding: 0 0 0 0;\n",
              "      width: 32px;\n",
              "    }\n",
              "\n",
              "    .colab-df-convert:hover {\n",
              "      background-color: #E2EBFA;\n",
              "      box-shadow: 0px 1px 2px rgba(60, 64, 67, 0.3), 0px 1px 3px 1px rgba(60, 64, 67, 0.15);\n",
              "      fill: #174EA6;\n",
              "    }\n",
              "\n",
              "    [theme=dark] .colab-df-convert {\n",
              "      background-color: #3B4455;\n",
              "      fill: #D2E3FC;\n",
              "    }\n",
              "\n",
              "    [theme=dark] .colab-df-convert:hover {\n",
              "      background-color: #434B5C;\n",
              "      box-shadow: 0px 1px 3px 1px rgba(0, 0, 0, 0.15);\n",
              "      filter: drop-shadow(0px 1px 2px rgba(0, 0, 0, 0.3));\n",
              "      fill: #FFFFFF;\n",
              "    }\n",
              "  </style>\n",
              "\n",
              "      <script>\n",
              "        const buttonEl =\n",
              "          document.querySelector('#df-07f61889-822d-4517-b40d-c27559e02ba0 button.colab-df-convert');\n",
              "        buttonEl.style.display =\n",
              "          google.colab.kernel.accessAllowed ? 'block' : 'none';\n",
              "\n",
              "        async function convertToInteractive(key) {\n",
              "          const element = document.querySelector('#df-07f61889-822d-4517-b40d-c27559e02ba0');\n",
              "          const dataTable =\n",
              "            await google.colab.kernel.invokeFunction('convertToInteractive',\n",
              "                                                     [key], {});\n",
              "          if (!dataTable) return;\n",
              "\n",
              "          const docLinkHtml = 'Like what you see? Visit the ' +\n",
              "            '<a target=\"_blank\" href=https://colab.research.google.com/notebooks/data_table.ipynb>data table notebook</a>'\n",
              "            + ' to learn more about interactive tables.';\n",
              "          element.innerHTML = '';\n",
              "          dataTable['output_type'] = 'display_data';\n",
              "          await google.colab.output.renderOutput(dataTable, element);\n",
              "          const docLink = document.createElement('div');\n",
              "          docLink.innerHTML = docLinkHtml;\n",
              "          element.appendChild(docLink);\n",
              "        }\n",
              "      </script>\n",
              "    </div>\n",
              "  </div>\n",
              "  "
            ]
          },
          "metadata": {},
          "execution_count": 13
        }
      ]
    },
    {
      "cell_type": "code",
      "source": [
        "df_clean = df.copy()"
      ],
      "metadata": {
        "id": "cfJ2Ri-ieARd"
      },
      "execution_count": 14,
      "outputs": []
    },
    {
      "cell_type": "code",
      "source": [
        "bool_columns=['Bicicleta', 'Bolsa ou Mochila', 'Carteira','Cartão de Crédito',\n",
        "'Celular', 'Computador','DVD', 'Dinheiro' , 'Documentos','Equipamento de Som','Estepe', 'MP4 ou Ipod', 'Móveis',\n",
        "'Notebook','Outros', 'Relógio', 'Som', 'Tablet', 'Tv', 'registrou_bo']\n",
        "\n",
        "df_clean[bool_columns] = df_clean[bool_columns].fillna(False)\n",
        "df_clean[bool_columns] = df_clean[bool_columns].astype(str)\n",
        "\n",
        "df_clean.head()\n",
        "     "
      ],
      "metadata": {
        "colab": {
          "base_uri": "https://localhost:8080/",
          "height": 502
        },
        "id": "9-dZybDseDYE",
        "outputId": "9bb8d40d-ebbb-4b7b-cc34-a59c24604686"
      },
      "execution_count": 17,
      "outputs": [
        {
          "output_type": "execute_result",
          "data": {
            "text/plain": [
              "                        id             bairro               created_at  \\\n",
              "time                                                                     \n",
              "2010-12-20 20:30:00  49787            Butantã  2015-06-16 23:34:01.000   \n",
              "2012-01-11 14:00:00  10679           Itaquera  2013-09-11 18:26:31.819   \n",
              "2012-01-11 14:00:00  10682           Itaquera  2013-09-11 18:42:07.858   \n",
              "2012-01-11 18:20:00   6166            Morumbi  2013-08-20 11:56:52.717   \n",
              "2012-01-11 08:15:00   6521  Alto de Pinheiros  2013-08-20 17:41:21.569   \n",
              "\n",
              "                                                             descricao  \\\n",
              "time                                                                     \n",
              "2010-12-20 20:30:00  5 bandidos, armas, entraram em casa e vasculha...   \n",
              "2012-01-11 14:00:00  Meu caso foi para o Pequenas Causas, ganhamos ...   \n",
              "2012-01-11 14:00:00  Meu caso foi para o Pequenas Causas, ganhamos ...   \n",
              "2012-01-11 18:20:00  Estava parada no semáforo, o bandido veio e es...   \n",
              "2012-01-11 08:15:00  Arrombaram o porta malas do meu carro e levara...   \n",
              "\n",
              "                                                              endereco   id.1  \\\n",
              "time                                                                            \n",
              "2010-12-20 20:30:00              Avenida Trona Constanzo, 177, Butantã  49787   \n",
              "2012-01-11 14:00:00  Avenida José Pinheiro Borges, 450-876 - Itaque...  10679   \n",
              "2012-01-11 14:00:00  Rua Corínthians - Itaquera - Shopping Metrô It...  10682   \n",
              "2012-01-11 18:20:00  Rua Pasquale Gallupi, 347 - Morumbi, São Paulo...   6166   \n",
              "2012-01-11 08:15:00  Avenida Professor Fonseca Rodrigues, 1655 - Al...   6521   \n",
              "\n",
              "                    ip_address_origin   latitude  longitude registrou_bo  ...  \\\n",
              "time                                                                      ...   \n",
              "2010-12-20 20:30:00               NaN -23.580973 -46.719192         True  ...   \n",
              "2012-01-11 14:00:00       187.11.1.51 -23.540105 -46.462872         True  ...   \n",
              "2012-01-11 14:00:00     189.19.160.82 -23.541765 -46.469562         True  ...   \n",
              "2012-01-11 18:20:00     199.67.140.46 -23.611693 -46.725935         True  ...   \n",
              "2012-01-11 08:15:00    187.92.158.154 -23.544564 -46.721567         True  ...   \n",
              "\n",
              "                    Estepe  MP4 ou Ipod Móveis Notebook  Outros  Relógio  \\\n",
              "time                                                                       \n",
              "2010-12-20 20:30:00  False         True  False     True   False    False   \n",
              "2012-01-11 14:00:00  False        False  False    False    True    False   \n",
              "2012-01-11 14:00:00  False        False  False    False    True    False   \n",
              "2012-01-11 18:20:00  False        False  False    False   False    False   \n",
              "2012-01-11 08:15:00  False        False  False     True    True    False   \n",
              "\n",
              "                       Som Tablet     Tv                time  \n",
              "time                                                          \n",
              "2010-12-20 20:30:00   True   True   True 2010-12-20 20:30:00  \n",
              "2012-01-11 14:00:00  False  False  False 2012-01-11 14:00:00  \n",
              "2012-01-11 14:00:00  False  False  False 2012-01-11 14:00:00  \n",
              "2012-01-11 18:20:00  False  False  False 2012-01-11 18:20:00  \n",
              "2012-01-11 08:15:00  False  False  False 2012-01-11 08:15:00  \n",
              "\n",
              "[5 rows x 36 columns]"
            ],
            "text/html": [
              "\n",
              "  <div id=\"df-682794df-d214-43a1-92cc-b9b1e53e6475\">\n",
              "    <div class=\"colab-df-container\">\n",
              "      <div>\n",
              "<style scoped>\n",
              "    .dataframe tbody tr th:only-of-type {\n",
              "        vertical-align: middle;\n",
              "    }\n",
              "\n",
              "    .dataframe tbody tr th {\n",
              "        vertical-align: top;\n",
              "    }\n",
              "\n",
              "    .dataframe thead th {\n",
              "        text-align: right;\n",
              "    }\n",
              "</style>\n",
              "<table border=\"1\" class=\"dataframe\">\n",
              "  <thead>\n",
              "    <tr style=\"text-align: right;\">\n",
              "      <th></th>\n",
              "      <th>id</th>\n",
              "      <th>bairro</th>\n",
              "      <th>created_at</th>\n",
              "      <th>descricao</th>\n",
              "      <th>endereco</th>\n",
              "      <th>id.1</th>\n",
              "      <th>ip_address_origin</th>\n",
              "      <th>latitude</th>\n",
              "      <th>longitude</th>\n",
              "      <th>registrou_bo</th>\n",
              "      <th>...</th>\n",
              "      <th>Estepe</th>\n",
              "      <th>MP4 ou Ipod</th>\n",
              "      <th>Móveis</th>\n",
              "      <th>Notebook</th>\n",
              "      <th>Outros</th>\n",
              "      <th>Relógio</th>\n",
              "      <th>Som</th>\n",
              "      <th>Tablet</th>\n",
              "      <th>Tv</th>\n",
              "      <th>time</th>\n",
              "    </tr>\n",
              "    <tr>\n",
              "      <th>time</th>\n",
              "      <th></th>\n",
              "      <th></th>\n",
              "      <th></th>\n",
              "      <th></th>\n",
              "      <th></th>\n",
              "      <th></th>\n",
              "      <th></th>\n",
              "      <th></th>\n",
              "      <th></th>\n",
              "      <th></th>\n",
              "      <th></th>\n",
              "      <th></th>\n",
              "      <th></th>\n",
              "      <th></th>\n",
              "      <th></th>\n",
              "      <th></th>\n",
              "      <th></th>\n",
              "      <th></th>\n",
              "      <th></th>\n",
              "      <th></th>\n",
              "      <th></th>\n",
              "    </tr>\n",
              "  </thead>\n",
              "  <tbody>\n",
              "    <tr>\n",
              "      <th>2010-12-20 20:30:00</th>\n",
              "      <td>49787</td>\n",
              "      <td>Butantã</td>\n",
              "      <td>2015-06-16 23:34:01.000</td>\n",
              "      <td>5 bandidos, armas, entraram em casa e vasculha...</td>\n",
              "      <td>Avenida Trona Constanzo, 177, Butantã</td>\n",
              "      <td>49787</td>\n",
              "      <td>NaN</td>\n",
              "      <td>-23.580973</td>\n",
              "      <td>-46.719192</td>\n",
              "      <td>True</td>\n",
              "      <td>...</td>\n",
              "      <td>False</td>\n",
              "      <td>True</td>\n",
              "      <td>False</td>\n",
              "      <td>True</td>\n",
              "      <td>False</td>\n",
              "      <td>False</td>\n",
              "      <td>True</td>\n",
              "      <td>True</td>\n",
              "      <td>True</td>\n",
              "      <td>2010-12-20 20:30:00</td>\n",
              "    </tr>\n",
              "    <tr>\n",
              "      <th>2012-01-11 14:00:00</th>\n",
              "      <td>10679</td>\n",
              "      <td>Itaquera</td>\n",
              "      <td>2013-09-11 18:26:31.819</td>\n",
              "      <td>Meu caso foi para o Pequenas Causas, ganhamos ...</td>\n",
              "      <td>Avenida José Pinheiro Borges, 450-876 - Itaque...</td>\n",
              "      <td>10679</td>\n",
              "      <td>187.11.1.51</td>\n",
              "      <td>-23.540105</td>\n",
              "      <td>-46.462872</td>\n",
              "      <td>True</td>\n",
              "      <td>...</td>\n",
              "      <td>False</td>\n",
              "      <td>False</td>\n",
              "      <td>False</td>\n",
              "      <td>False</td>\n",
              "      <td>True</td>\n",
              "      <td>False</td>\n",
              "      <td>False</td>\n",
              "      <td>False</td>\n",
              "      <td>False</td>\n",
              "      <td>2012-01-11 14:00:00</td>\n",
              "    </tr>\n",
              "    <tr>\n",
              "      <th>2012-01-11 14:00:00</th>\n",
              "      <td>10682</td>\n",
              "      <td>Itaquera</td>\n",
              "      <td>2013-09-11 18:42:07.858</td>\n",
              "      <td>Meu caso foi para o Pequenas Causas, ganhamos ...</td>\n",
              "      <td>Rua Corínthians - Itaquera - Shopping Metrô It...</td>\n",
              "      <td>10682</td>\n",
              "      <td>189.19.160.82</td>\n",
              "      <td>-23.541765</td>\n",
              "      <td>-46.469562</td>\n",
              "      <td>True</td>\n",
              "      <td>...</td>\n",
              "      <td>False</td>\n",
              "      <td>False</td>\n",
              "      <td>False</td>\n",
              "      <td>False</td>\n",
              "      <td>True</td>\n",
              "      <td>False</td>\n",
              "      <td>False</td>\n",
              "      <td>False</td>\n",
              "      <td>False</td>\n",
              "      <td>2012-01-11 14:00:00</td>\n",
              "    </tr>\n",
              "    <tr>\n",
              "      <th>2012-01-11 18:20:00</th>\n",
              "      <td>6166</td>\n",
              "      <td>Morumbi</td>\n",
              "      <td>2013-08-20 11:56:52.717</td>\n",
              "      <td>Estava parada no semáforo, o bandido veio e es...</td>\n",
              "      <td>Rua Pasquale Gallupi, 347 - Morumbi, São Paulo...</td>\n",
              "      <td>6166</td>\n",
              "      <td>199.67.140.46</td>\n",
              "      <td>-23.611693</td>\n",
              "      <td>-46.725935</td>\n",
              "      <td>True</td>\n",
              "      <td>...</td>\n",
              "      <td>False</td>\n",
              "      <td>False</td>\n",
              "      <td>False</td>\n",
              "      <td>False</td>\n",
              "      <td>False</td>\n",
              "      <td>False</td>\n",
              "      <td>False</td>\n",
              "      <td>False</td>\n",
              "      <td>False</td>\n",
              "      <td>2012-01-11 18:20:00</td>\n",
              "    </tr>\n",
              "    <tr>\n",
              "      <th>2012-01-11 08:15:00</th>\n",
              "      <td>6521</td>\n",
              "      <td>Alto de Pinheiros</td>\n",
              "      <td>2013-08-20 17:41:21.569</td>\n",
              "      <td>Arrombaram o porta malas do meu carro e levara...</td>\n",
              "      <td>Avenida Professor Fonseca Rodrigues, 1655 - Al...</td>\n",
              "      <td>6521</td>\n",
              "      <td>187.92.158.154</td>\n",
              "      <td>-23.544564</td>\n",
              "      <td>-46.721567</td>\n",
              "      <td>True</td>\n",
              "      <td>...</td>\n",
              "      <td>False</td>\n",
              "      <td>False</td>\n",
              "      <td>False</td>\n",
              "      <td>True</td>\n",
              "      <td>True</td>\n",
              "      <td>False</td>\n",
              "      <td>False</td>\n",
              "      <td>False</td>\n",
              "      <td>False</td>\n",
              "      <td>2012-01-11 08:15:00</td>\n",
              "    </tr>\n",
              "  </tbody>\n",
              "</table>\n",
              "<p>5 rows × 36 columns</p>\n",
              "</div>\n",
              "      <button class=\"colab-df-convert\" onclick=\"convertToInteractive('df-682794df-d214-43a1-92cc-b9b1e53e6475')\"\n",
              "              title=\"Convert this dataframe to an interactive table.\"\n",
              "              style=\"display:none;\">\n",
              "        \n",
              "  <svg xmlns=\"http://www.w3.org/2000/svg\" height=\"24px\"viewBox=\"0 0 24 24\"\n",
              "       width=\"24px\">\n",
              "    <path d=\"M0 0h24v24H0V0z\" fill=\"none\"/>\n",
              "    <path d=\"M18.56 5.44l.94 2.06.94-2.06 2.06-.94-2.06-.94-.94-2.06-.94 2.06-2.06.94zm-11 1L8.5 8.5l.94-2.06 2.06-.94-2.06-.94L8.5 2.5l-.94 2.06-2.06.94zm10 10l.94 2.06.94-2.06 2.06-.94-2.06-.94-.94-2.06-.94 2.06-2.06.94z\"/><path d=\"M17.41 7.96l-1.37-1.37c-.4-.4-.92-.59-1.43-.59-.52 0-1.04.2-1.43.59L10.3 9.45l-7.72 7.72c-.78.78-.78 2.05 0 2.83L4 21.41c.39.39.9.59 1.41.59.51 0 1.02-.2 1.41-.59l7.78-7.78 2.81-2.81c.8-.78.8-2.07 0-2.86zM5.41 20L4 18.59l7.72-7.72 1.47 1.35L5.41 20z\"/>\n",
              "  </svg>\n",
              "      </button>\n",
              "      \n",
              "  <style>\n",
              "    .colab-df-container {\n",
              "      display:flex;\n",
              "      flex-wrap:wrap;\n",
              "      gap: 12px;\n",
              "    }\n",
              "\n",
              "    .colab-df-convert {\n",
              "      background-color: #E8F0FE;\n",
              "      border: none;\n",
              "      border-radius: 50%;\n",
              "      cursor: pointer;\n",
              "      display: none;\n",
              "      fill: #1967D2;\n",
              "      height: 32px;\n",
              "      padding: 0 0 0 0;\n",
              "      width: 32px;\n",
              "    }\n",
              "\n",
              "    .colab-df-convert:hover {\n",
              "      background-color: #E2EBFA;\n",
              "      box-shadow: 0px 1px 2px rgba(60, 64, 67, 0.3), 0px 1px 3px 1px rgba(60, 64, 67, 0.15);\n",
              "      fill: #174EA6;\n",
              "    }\n",
              "\n",
              "    [theme=dark] .colab-df-convert {\n",
              "      background-color: #3B4455;\n",
              "      fill: #D2E3FC;\n",
              "    }\n",
              "\n",
              "    [theme=dark] .colab-df-convert:hover {\n",
              "      background-color: #434B5C;\n",
              "      box-shadow: 0px 1px 3px 1px rgba(0, 0, 0, 0.15);\n",
              "      filter: drop-shadow(0px 1px 2px rgba(0, 0, 0, 0.3));\n",
              "      fill: #FFFFFF;\n",
              "    }\n",
              "  </style>\n",
              "\n",
              "      <script>\n",
              "        const buttonEl =\n",
              "          document.querySelector('#df-682794df-d214-43a1-92cc-b9b1e53e6475 button.colab-df-convert');\n",
              "        buttonEl.style.display =\n",
              "          google.colab.kernel.accessAllowed ? 'block' : 'none';\n",
              "\n",
              "        async function convertToInteractive(key) {\n",
              "          const element = document.querySelector('#df-682794df-d214-43a1-92cc-b9b1e53e6475');\n",
              "          const dataTable =\n",
              "            await google.colab.kernel.invokeFunction('convertToInteractive',\n",
              "                                                     [key], {});\n",
              "          if (!dataTable) return;\n",
              "\n",
              "          const docLinkHtml = 'Like what you see? Visit the ' +\n",
              "            '<a target=\"_blank\" href=https://colab.research.google.com/notebooks/data_table.ipynb>data table notebook</a>'\n",
              "            + ' to learn more about interactive tables.';\n",
              "          element.innerHTML = '';\n",
              "          dataTable['output_type'] = 'display_data';\n",
              "          await google.colab.output.renderOutput(dataTable, element);\n",
              "          const docLink = document.createElement('div');\n",
              "          docLink.innerHTML = docLinkHtml;\n",
              "          element.appendChild(docLink);\n",
              "        }\n",
              "      </script>\n",
              "    </div>\n",
              "  </div>\n",
              "  "
            ]
          },
          "metadata": {},
          "execution_count": 17
        }
      ]
    },
    {
      "cell_type": "code",
      "source": [
        "#Verificar e excluir dados ausentes\n",
        "(df_clean.isnull().sum() / df_clean.shape[0]).sort_values(ascending=False)\n",
        "df_clean.dropna(subset=['bairro'], axis=0, inplace=True)\n",
        "df.head(2)"
      ],
      "metadata": {
        "colab": {
          "base_uri": "https://localhost:8080/",
          "height": 304
        },
        "id": "Onebe1M9fch5",
        "outputId": "42dd2578-6bae-4604-ca21-254be03510c5"
      },
      "execution_count": 19,
      "outputs": [
        {
          "output_type": "execute_result",
          "data": {
            "text/plain": [
              "                        id    bairro               created_at  \\\n",
              "time                                                            \n",
              "2010-12-20 20:30:00  49787   Butantã  2015-06-16 23:34:01.000   \n",
              "2012-01-11 14:00:00  10679  Itaquera  2013-09-11 18:26:31.819   \n",
              "\n",
              "                                                             descricao  \\\n",
              "time                                                                     \n",
              "2010-12-20 20:30:00  5 bandidos, armas, entraram em casa e vasculha...   \n",
              "2012-01-11 14:00:00  Meu caso foi para o Pequenas Causas, ganhamos ...   \n",
              "\n",
              "                                                              endereco   id.1  \\\n",
              "time                                                                            \n",
              "2010-12-20 20:30:00              Avenida Trona Constanzo, 177, Butantã  49787   \n",
              "2012-01-11 14:00:00  Avenida José Pinheiro Borges, 450-876 - Itaque...  10679   \n",
              "\n",
              "                    ip_address_origin   latitude  longitude registrou_bo  ...  \\\n",
              "time                                                                      ...   \n",
              "2010-12-20 20:30:00               NaN -23.580973 -46.719192         True  ...   \n",
              "2012-01-11 14:00:00       187.11.1.51 -23.540105 -46.462872         True  ...   \n",
              "\n",
              "                    Estepe  MP4 ou Ipod Móveis Notebook  Outros  Relógio  \\\n",
              "time                                                                       \n",
              "2010-12-20 20:30:00    NaN         True    NaN     True     NaN      NaN   \n",
              "2012-01-11 14:00:00    NaN          NaN    NaN      NaN    True      NaN   \n",
              "\n",
              "                      Som Tablet    Tv                time  \n",
              "time                                                        \n",
              "2010-12-20 20:30:00  True   True  True 2010-12-20 20:30:00  \n",
              "2012-01-11 14:00:00   NaN    NaN   NaN 2012-01-11 14:00:00  \n",
              "\n",
              "[2 rows x 36 columns]"
            ],
            "text/html": [
              "\n",
              "  <div id=\"df-64ec5d05-997b-4155-aa89-b8df616f7fb0\">\n",
              "    <div class=\"colab-df-container\">\n",
              "      <div>\n",
              "<style scoped>\n",
              "    .dataframe tbody tr th:only-of-type {\n",
              "        vertical-align: middle;\n",
              "    }\n",
              "\n",
              "    .dataframe tbody tr th {\n",
              "        vertical-align: top;\n",
              "    }\n",
              "\n",
              "    .dataframe thead th {\n",
              "        text-align: right;\n",
              "    }\n",
              "</style>\n",
              "<table border=\"1\" class=\"dataframe\">\n",
              "  <thead>\n",
              "    <tr style=\"text-align: right;\">\n",
              "      <th></th>\n",
              "      <th>id</th>\n",
              "      <th>bairro</th>\n",
              "      <th>created_at</th>\n",
              "      <th>descricao</th>\n",
              "      <th>endereco</th>\n",
              "      <th>id.1</th>\n",
              "      <th>ip_address_origin</th>\n",
              "      <th>latitude</th>\n",
              "      <th>longitude</th>\n",
              "      <th>registrou_bo</th>\n",
              "      <th>...</th>\n",
              "      <th>Estepe</th>\n",
              "      <th>MP4 ou Ipod</th>\n",
              "      <th>Móveis</th>\n",
              "      <th>Notebook</th>\n",
              "      <th>Outros</th>\n",
              "      <th>Relógio</th>\n",
              "      <th>Som</th>\n",
              "      <th>Tablet</th>\n",
              "      <th>Tv</th>\n",
              "      <th>time</th>\n",
              "    </tr>\n",
              "    <tr>\n",
              "      <th>time</th>\n",
              "      <th></th>\n",
              "      <th></th>\n",
              "      <th></th>\n",
              "      <th></th>\n",
              "      <th></th>\n",
              "      <th></th>\n",
              "      <th></th>\n",
              "      <th></th>\n",
              "      <th></th>\n",
              "      <th></th>\n",
              "      <th></th>\n",
              "      <th></th>\n",
              "      <th></th>\n",
              "      <th></th>\n",
              "      <th></th>\n",
              "      <th></th>\n",
              "      <th></th>\n",
              "      <th></th>\n",
              "      <th></th>\n",
              "      <th></th>\n",
              "      <th></th>\n",
              "    </tr>\n",
              "  </thead>\n",
              "  <tbody>\n",
              "    <tr>\n",
              "      <th>2010-12-20 20:30:00</th>\n",
              "      <td>49787</td>\n",
              "      <td>Butantã</td>\n",
              "      <td>2015-06-16 23:34:01.000</td>\n",
              "      <td>5 bandidos, armas, entraram em casa e vasculha...</td>\n",
              "      <td>Avenida Trona Constanzo, 177, Butantã</td>\n",
              "      <td>49787</td>\n",
              "      <td>NaN</td>\n",
              "      <td>-23.580973</td>\n",
              "      <td>-46.719192</td>\n",
              "      <td>True</td>\n",
              "      <td>...</td>\n",
              "      <td>NaN</td>\n",
              "      <td>True</td>\n",
              "      <td>NaN</td>\n",
              "      <td>True</td>\n",
              "      <td>NaN</td>\n",
              "      <td>NaN</td>\n",
              "      <td>True</td>\n",
              "      <td>True</td>\n",
              "      <td>True</td>\n",
              "      <td>2010-12-20 20:30:00</td>\n",
              "    </tr>\n",
              "    <tr>\n",
              "      <th>2012-01-11 14:00:00</th>\n",
              "      <td>10679</td>\n",
              "      <td>Itaquera</td>\n",
              "      <td>2013-09-11 18:26:31.819</td>\n",
              "      <td>Meu caso foi para o Pequenas Causas, ganhamos ...</td>\n",
              "      <td>Avenida José Pinheiro Borges, 450-876 - Itaque...</td>\n",
              "      <td>10679</td>\n",
              "      <td>187.11.1.51</td>\n",
              "      <td>-23.540105</td>\n",
              "      <td>-46.462872</td>\n",
              "      <td>True</td>\n",
              "      <td>...</td>\n",
              "      <td>NaN</td>\n",
              "      <td>NaN</td>\n",
              "      <td>NaN</td>\n",
              "      <td>NaN</td>\n",
              "      <td>True</td>\n",
              "      <td>NaN</td>\n",
              "      <td>NaN</td>\n",
              "      <td>NaN</td>\n",
              "      <td>NaN</td>\n",
              "      <td>2012-01-11 14:00:00</td>\n",
              "    </tr>\n",
              "  </tbody>\n",
              "</table>\n",
              "<p>2 rows × 36 columns</p>\n",
              "</div>\n",
              "      <button class=\"colab-df-convert\" onclick=\"convertToInteractive('df-64ec5d05-997b-4155-aa89-b8df616f7fb0')\"\n",
              "              title=\"Convert this dataframe to an interactive table.\"\n",
              "              style=\"display:none;\">\n",
              "        \n",
              "  <svg xmlns=\"http://www.w3.org/2000/svg\" height=\"24px\"viewBox=\"0 0 24 24\"\n",
              "       width=\"24px\">\n",
              "    <path d=\"M0 0h24v24H0V0z\" fill=\"none\"/>\n",
              "    <path d=\"M18.56 5.44l.94 2.06.94-2.06 2.06-.94-2.06-.94-.94-2.06-.94 2.06-2.06.94zm-11 1L8.5 8.5l.94-2.06 2.06-.94-2.06-.94L8.5 2.5l-.94 2.06-2.06.94zm10 10l.94 2.06.94-2.06 2.06-.94-2.06-.94-.94-2.06-.94 2.06-2.06.94z\"/><path d=\"M17.41 7.96l-1.37-1.37c-.4-.4-.92-.59-1.43-.59-.52 0-1.04.2-1.43.59L10.3 9.45l-7.72 7.72c-.78.78-.78 2.05 0 2.83L4 21.41c.39.39.9.59 1.41.59.51 0 1.02-.2 1.41-.59l7.78-7.78 2.81-2.81c.8-.78.8-2.07 0-2.86zM5.41 20L4 18.59l7.72-7.72 1.47 1.35L5.41 20z\"/>\n",
              "  </svg>\n",
              "      </button>\n",
              "      \n",
              "  <style>\n",
              "    .colab-df-container {\n",
              "      display:flex;\n",
              "      flex-wrap:wrap;\n",
              "      gap: 12px;\n",
              "    }\n",
              "\n",
              "    .colab-df-convert {\n",
              "      background-color: #E8F0FE;\n",
              "      border: none;\n",
              "      border-radius: 50%;\n",
              "      cursor: pointer;\n",
              "      display: none;\n",
              "      fill: #1967D2;\n",
              "      height: 32px;\n",
              "      padding: 0 0 0 0;\n",
              "      width: 32px;\n",
              "    }\n",
              "\n",
              "    .colab-df-convert:hover {\n",
              "      background-color: #E2EBFA;\n",
              "      box-shadow: 0px 1px 2px rgba(60, 64, 67, 0.3), 0px 1px 3px 1px rgba(60, 64, 67, 0.15);\n",
              "      fill: #174EA6;\n",
              "    }\n",
              "\n",
              "    [theme=dark] .colab-df-convert {\n",
              "      background-color: #3B4455;\n",
              "      fill: #D2E3FC;\n",
              "    }\n",
              "\n",
              "    [theme=dark] .colab-df-convert:hover {\n",
              "      background-color: #434B5C;\n",
              "      box-shadow: 0px 1px 3px 1px rgba(0, 0, 0, 0.15);\n",
              "      filter: drop-shadow(0px 1px 2px rgba(0, 0, 0, 0.3));\n",
              "      fill: #FFFFFF;\n",
              "    }\n",
              "  </style>\n",
              "\n",
              "      <script>\n",
              "        const buttonEl =\n",
              "          document.querySelector('#df-64ec5d05-997b-4155-aa89-b8df616f7fb0 button.colab-df-convert');\n",
              "        buttonEl.style.display =\n",
              "          google.colab.kernel.accessAllowed ? 'block' : 'none';\n",
              "\n",
              "        async function convertToInteractive(key) {\n",
              "          const element = document.querySelector('#df-64ec5d05-997b-4155-aa89-b8df616f7fb0');\n",
              "          const dataTable =\n",
              "            await google.colab.kernel.invokeFunction('convertToInteractive',\n",
              "                                                     [key], {});\n",
              "          if (!dataTable) return;\n",
              "\n",
              "          const docLinkHtml = 'Like what you see? Visit the ' +\n",
              "            '<a target=\"_blank\" href=https://colab.research.google.com/notebooks/data_table.ipynb>data table notebook</a>'\n",
              "            + ' to learn more about interactive tables.';\n",
              "          element.innerHTML = '';\n",
              "          dataTable['output_type'] = 'display_data';\n",
              "          await google.colab.output.renderOutput(dataTable, element);\n",
              "          const docLink = document.createElement('div');\n",
              "          docLink.innerHTML = docLinkHtml;\n",
              "          element.appendChild(docLink);\n",
              "        }\n",
              "      </script>\n",
              "    </div>\n",
              "  </div>\n",
              "  "
            ]
          },
          "metadata": {},
          "execution_count": 19
        }
      ]
    },
    {
      "cell_type": "markdown",
      "source": [
        "## ANALISE EXPLORATÓRIA"
      ],
      "metadata": {
        "id": "LhG60N29fsti"
      }
    },
    {
      "cell_type": "markdown",
      "source": [
        "Para nossa análise não ficar bagunçada, vamos dividi-la nessas etapas\n",
        "Quem foi roubado?\n",
        "O que foi roubado?\n",
        "Onde foi roubado?\n",
        "Quando foi roubado?"
      ],
      "metadata": {
        "id": "2A_jG27Wfy2p"
      }
    },
    {
      "cell_type": "code",
      "source": [
        "#Quem foi roubado? De cara nós sabemos que \"QUEM\" está relacionado ao gênero.Então precisamos descobrir a quantide de gente que estásendo roubada\n",
        "sexo = df['sexo'].value_counts()\n",
        "sexo\n",
        "#temos 12.899 casos de roubo nesse dataset"
      ],
      "metadata": {
        "colab": {
          "base_uri": "https://localhost:8080/"
        },
        "id": "eN4rToeYfjSg",
        "outputId": "2adf54e1-6849-486c-c2a0-70df432d783b"
      },
      "execution_count": 21,
      "outputs": [
        {
          "output_type": "execute_result",
          "data": {
            "text/plain": [
              "MASCULINO    7901\n",
              "FEMININO     4998\n",
              "Name: sexo, dtype: int64"
            ]
          },
          "metadata": {},
          "execution_count": 21
        }
      ]
    },
    {
      "cell_type": "code",
      "source": [
        "homens = sexo['MASCULINO']\n",
        "mulheres = sexo['FEMININO']\n",
        "porc_masc = sexo['MASCULINO']/(sexo['MASCULINO'] + sexo['FEMININO'])*100\n",
        "porc_femi = sexo['FEMININO']/(sexo['FEMININO'] + sexo['MASCULINO'])*100\n",
        "print('Homens: {} ({:.2f}%)'.format(homens,porc_masc))\n",
        "print('Mulheres: {} ({:.2f}%)'.format(mulheres,porc_femi))"
      ],
      "metadata": {
        "colab": {
          "base_uri": "https://localhost:8080/"
        },
        "id": "0a4RI_oKhSMW",
        "outputId": "603b1d4d-1a8f-4df0-ca53-5aaed41f44ae"
      },
      "execution_count": 29,
      "outputs": [
        {
          "output_type": "stream",
          "name": "stdout",
          "text": [
            "Homens: 7901 (61.25%)\n",
            "Mulheres: 4998 (38.75%)\n"
          ]
        }
      ]
    },
    {
      "cell_type": "code",
      "source": [
        "cor_genero = ['#6495ED','#FF69B4']\n",
        "fig = plt.figure(figsize=(7,7))\n",
        "sexo = df['sexo'].value_counts()\n",
        "sexo_num = [sexo[0],sexo[1]]\n",
        "plt.pie(sexo_num, labels=['MASCULINO','FEMININO'],colors=cor_genero)\n",
        "plt.title('vítmas por gênero',fontsize=21);"
      ],
      "metadata": {
        "colab": {
          "base_uri": "https://localhost:8080/",
          "height": 435
        },
        "id": "wQseZiVqjHqN",
        "outputId": "d3d7073d-e82e-454f-fa14-4d8ec1f4ea77"
      },
      "execution_count": 30,
      "outputs": [
        {
          "output_type": "display_data",
          "data": {
            "text/plain": [
              "<Figure size 504x504 with 1 Axes>"
            ],
            "image/png": "[encoded data removed]"
          },
          "metadata": {}
        }
      ]
    },
    {
      "cell_type": "markdown",
      "source": [
        "#Registrou boletim de ocorrência\n"
      ],
      "metadata": {
        "id": "bWSmaXrRjl1N"
      }
    },
    {
      "cell_type": "code",
      "source": [
        "bo= df['registrou_bo'].value_counts()\n",
        "bo"
      ],
      "metadata": {
        "colab": {
          "base_uri": "https://localhost:8080/"
        },
        "id": "Gae2szRdjsu9",
        "outputId": "4929cac4-5860-4138-a2c6-d37082c1ac36"
      },
      "execution_count": 32,
      "outputs": [
        {
          "output_type": "execute_result",
          "data": {
            "text/plain": [
              "True     7340\n",
              "False    5035\n",
              "Name: registrou_bo, dtype: int64"
            ]
          },
          "metadata": {},
          "execution_count": 32
        }
      ]
    },
    {
      "cell_type": "code",
      "source": [
        "sim = bo[True]\n",
        "nao = bo[False]\n",
        "porc_sim = sim/(sim + nao)*100\n",
        "porc_nao = nao/(sim + nao)*100\n",
        "print('Registraram BO: {} ({:.2f}%)'.format(sim,porc_sim))\n",
        "print('Não registraram BO: {} ({:.2f}%)'.format(nao,porc_nao))"
      ],
      "metadata": {
        "colab": {
          "base_uri": "https://localhost:8080/"
        },
        "id": "xRGvneq2j7_4",
        "outputId": "79d58c47-0205-4eea-d4d2-86c7824bb6a9"
      },
      "execution_count": 37,
      "outputs": [
        {
          "output_type": "stream",
          "name": "stdout",
          "text": [
            "Registraram BO: 7340 (59.31%)\n",
            "Não registraram BO: 5035 (40.69%)\n"
          ]
        }
      ]
    },
    {
      "cell_type": "code",
      "source": [
        "fig = plt.figure(figsize=(10,5))\n",
        "sns.countplot(x='registrou_bo', data=df)\n",
        "plt.xlabel('Registrou BO?',fontsize=13)\n",
        "plt.ylabel('')\n",
        "plt.yticks(fontsize=11)\n",
        "plt.title('Pessoas que registraram Boletim de Ocorrência',fontsize=19);"
      ],
      "metadata": {
        "colab": {
          "base_uri": "https://localhost:8080/",
          "height": 359
        },
        "id": "Vc7z1_CvlX8F",
        "outputId": "66b83ed2-d8e6-4851-edcf-0b04b1b2707b"
      },
      "execution_count": 38,
      "outputs": [
        {
          "output_type": "display_data",
          "data": {
            "text/plain": [
              "<Figure size 720x360 with 1 Axes>"
            ],
            "image/png": "[encoded data removed]"
          },
          "metadata": {
            "needs_background": "light"
          }
        }
      ]
    },
    {
      "cell_type": "code",
      "source": [
        "df[(df['sexo'] == 'MASCULINO')&(df['registrou_bo'] == True)].shape[0]"
      ],
      "metadata": {
        "colab": {
          "base_uri": "https://localhost:8080/"
        },
        "id": "wyQgxUg3mN2Z",
        "outputId": "b51e2a84-85d6-4eea-efba-42fe1bcf86b5"
      },
      "execution_count": 39,
      "outputs": [
        {
          "output_type": "execute_result",
          "data": {
            "text/plain": [
              "4487"
            ]
          },
          "metadata": {},
          "execution_count": 39
        }
      ]
    },
    {
      "cell_type": "code",
      "source": [
        "df[(df['sexo'] == 'MASCULINO')&(df['registrou_bo'] == False)].shape[0]"
      ],
      "metadata": {
        "colab": {
          "base_uri": "https://localhost:8080/"
        },
        "id": "OKsAfNVFmRgB",
        "outputId": "c46d3f5f-b443-499b-acb5-9f49e036d659"
      },
      "execution_count": 40,
      "outputs": [
        {
          "output_type": "execute_result",
          "data": {
            "text/plain": [
              "3087"
            ]
          },
          "metadata": {},
          "execution_count": 40
        }
      ]
    },
    {
      "cell_type": "markdown",
      "source": [
        "REGISTROS DE BO 'MASCULINO'\n",
        "\n",
        "*   4487 Homens Registraram BO\n",
        "*   3087 Homens Não Registraram BO\n",
        "\n",
        "\n"
      ],
      "metadata": {
        "id": "gg_9KcQimZXD"
      }
    },
    {
      "cell_type": "code",
      "source": [
        "df[(df['sexo'] == 'FEMININO')&(df['registrou_bo'] == True)].shape[0]"
      ],
      "metadata": {
        "colab": {
          "base_uri": "https://localhost:8080/"
        },
        "id": "dq0dp0A8m2JI",
        "outputId": "8d29f42d-50e4-48c6-a6c9-25a89f680a97"
      },
      "execution_count": 41,
      "outputs": [
        {
          "output_type": "execute_result",
          "data": {
            "text/plain": [
              "2853"
            ]
          },
          "metadata": {},
          "execution_count": 41
        }
      ]
    },
    {
      "cell_type": "code",
      "source": [
        "df[(df['sexo'] == 'FEMININO')&(df['registrou_bo'] == False)].shape[0]"
      ],
      "metadata": {
        "colab": {
          "base_uri": "https://localhost:8080/"
        },
        "id": "uQwC-daWnAUO",
        "outputId": "f2df09bc-8bb7-4b01-b23c-6f1758ca9ba1"
      },
      "execution_count": 42,
      "outputs": [
        {
          "output_type": "execute_result",
          "data": {
            "text/plain": [
              "1948"
            ]
          },
          "metadata": {},
          "execution_count": 42
        }
      ]
    },
    {
      "cell_type": "markdown",
      "source": [
        "REGISTROS DE BO 'MASCULINO'\n",
        "\n",
        "* 2853 Mulheres Registraram BO\n",
        "* 1948 Mulheres Não Registraram BO"
      ],
      "metadata": {
        "id": "pVz2ifarnGwh"
      }
    },
    {
      "cell_type": "code",
      "source": [
        "fig = plt.figure(figsize=(11,7))\n",
        "sns.countplot(x='sexo',hue='registrou_bo',data=df_clean)\n",
        "plt.xlabel('',fontsize=13)\n",
        "plt.ylabel('')\n",
        "plt.legend(title='Registrou BO')\n",
        "plt.yticks(fontsize=11)\n",
        "plt.title('Os gêneros que registraram BO',fontsize=19);"
      ],
      "metadata": {
        "colab": {
          "base_uri": "https://localhost:8080/",
          "height": 450
        },
        "id": "-tdjC6vanRQ9",
        "outputId": "e8d952ff-6092-433e-d492-77a684879288"
      },
      "execution_count": 43,
      "outputs": [
        {
          "output_type": "display_data",
          "data": {
            "text/plain": [
              "<Figure size 792x504 with 1 Axes>"
            ],
            "image/png": "[encoded data removed]"
          },
          "metadata": {
            "needs_background": "light"
          }
        }
      ]
    },
    {
      "cell_type": "markdown",
      "source": [
        "## O QUE FOI ROUBADO ?"
      ],
      "metadata": {
        "id": "xLv-VyPingl4"
      }
    },
    {
      "cell_type": "code",
      "source": [
        "df['valor_prejuizo'].describe()"
      ],
      "metadata": {
        "colab": {
          "base_uri": "https://localhost:8080/"
        },
        "id": "QeNrpWCKnlNt",
        "outputId": "d98a067e-0d9d-4047-8c8b-a57c96ae0d54"
      },
      "execution_count": 44,
      "outputs": [
        {
          "output_type": "execute_result",
          "data": {
            "text/plain": [
              "count      12899.000000\n",
              "mean        2745.264592\n",
              "std        11115.126241\n",
              "min            0.000000\n",
              "25%           25.000000\n",
              "50%          700.000000\n",
              "75%         2000.000000\n",
              "max      1000000.000000\n",
              "Name: valor_prejuizo, dtype: float64"
            ]
          },
          "metadata": {},
          "execution_count": 44
        }
      ]
    },
    {
      "cell_type": "code",
      "source": [
        "df_2 = df.describe(include='O')\n",
        "df2_objetos = df.drop(columns=['bairro','id','created_at','descricao','endereco','id.1','ip_address_origin','latitude','longitude','registrou_bo','sexo','tipo_assalto_id','titulo','uri','user_id','valor_prejuizo','time'])\n",
        "df2_objetos = df2_objetos.describe(include='O')\n",
        "df2_objetos = df2_objetos.T\n",
        "eixoy = df2_objetos.index\n",
        "df2_objetos"
      ],
      "metadata": {
        "colab": {
          "base_uri": "https://localhost:8080/",
          "height": 645
        },
        "id": "ipgpsykaoFei",
        "outputId": "2bdd2a1d-288a-4ae8-9ee0-d7ce70611786"
      },
      "execution_count": 49,
      "outputs": [
        {
          "output_type": "execute_result",
          "data": {
            "text/plain": [
              "                   count unique   top  freq\n",
              "Bicicleta            256      1  True   256\n",
              "Bolsa ou Mochila    3631      1  True  3631\n",
              "Carteira            4243      1  True  4243\n",
              "Cartão de Crédito   2776      1  True  2776\n",
              "Celular             8377      1  True  8377\n",
              "Computador           112      1  True   112\n",
              "DVD                   94      1  True    94\n",
              "Dinheiro            1730      1  True  1730\n",
              "Documentos          3660      1  True  3660\n",
              "Equipamento de Som   239      1  True   239\n",
              "Estepe               324      1  True   324\n",
              "MP4 ou Ipod          552      1  True   552\n",
              "Móveis                45      1  True    45\n",
              "Notebook             764      1  True   764\n",
              "Outros              5243      1  True  5243\n",
              "Relógio             1350      1  True  1350\n",
              "Som                  106      1  True   106\n",
              "Tablet               443      1  True   443\n",
              "Tv                   178      1  True   178"
            ],
            "text/html": [
              "\n",
              "  <div id=\"df-6dd4c4f7-48b7-4aa9-b7d8-651a3a200d78\">\n",
              "    <div class=\"colab-df-container\">\n",
              "      <div>\n",
              "<style scoped>\n",
              "    .dataframe tbody tr th:only-of-type {\n",
              "        vertical-align: middle;\n",
              "    }\n",
              "\n",
              "    .dataframe tbody tr th {\n",
              "        vertical-align: top;\n",
              "    }\n",
              "\n",
              "    .dataframe thead th {\n",
              "        text-align: right;\n",
              "    }\n",
              "</style>\n",
              "<table border=\"1\" class=\"dataframe\">\n",
              "  <thead>\n",
              "    <tr style=\"text-align: right;\">\n",
              "      <th></th>\n",
              "      <th>count</th>\n",
              "      <th>unique</th>\n",
              "      <th>top</th>\n",
              "      <th>freq</th>\n",
              "    </tr>\n",
              "  </thead>\n",
              "  <tbody>\n",
              "    <tr>\n",
              "      <th>Bicicleta</th>\n",
              "      <td>256</td>\n",
              "      <td>1</td>\n",
              "      <td>True</td>\n",
              "      <td>256</td>\n",
              "    </tr>\n",
              "    <tr>\n",
              "      <th>Bolsa ou Mochila</th>\n",
              "      <td>3631</td>\n",
              "      <td>1</td>\n",
              "      <td>True</td>\n",
              "      <td>3631</td>\n",
              "    </tr>\n",
              "    <tr>\n",
              "      <th>Carteira</th>\n",
              "      <td>4243</td>\n",
              "      <td>1</td>\n",
              "      <td>True</td>\n",
              "      <td>4243</td>\n",
              "    </tr>\n",
              "    <tr>\n",
              "      <th>Cartão de Crédito</th>\n",
              "      <td>2776</td>\n",
              "      <td>1</td>\n",
              "      <td>True</td>\n",
              "      <td>2776</td>\n",
              "    </tr>\n",
              "    <tr>\n",
              "      <th>Celular</th>\n",
              "      <td>8377</td>\n",
              "      <td>1</td>\n",
              "      <td>True</td>\n",
              "      <td>8377</td>\n",
              "    </tr>\n",
              "    <tr>\n",
              "      <th>Computador</th>\n",
              "      <td>112</td>\n",
              "      <td>1</td>\n",
              "      <td>True</td>\n",
              "      <td>112</td>\n",
              "    </tr>\n",
              "    <tr>\n",
              "      <th>DVD</th>\n",
              "      <td>94</td>\n",
              "      <td>1</td>\n",
              "      <td>True</td>\n",
              "      <td>94</td>\n",
              "    </tr>\n",
              "    <tr>\n",
              "      <th>Dinheiro</th>\n",
              "      <td>1730</td>\n",
              "      <td>1</td>\n",
              "      <td>True</td>\n",
              "      <td>1730</td>\n",
              "    </tr>\n",
              "    <tr>\n",
              "      <th>Documentos</th>\n",
              "      <td>3660</td>\n",
              "      <td>1</td>\n",
              "      <td>True</td>\n",
              "      <td>3660</td>\n",
              "    </tr>\n",
              "    <tr>\n",
              "      <th>Equipamento de Som</th>\n",
              "      <td>239</td>\n",
              "      <td>1</td>\n",
              "      <td>True</td>\n",
              "      <td>239</td>\n",
              "    </tr>\n",
              "    <tr>\n",
              "      <th>Estepe</th>\n",
              "      <td>324</td>\n",
              "      <td>1</td>\n",
              "      <td>True</td>\n",
              "      <td>324</td>\n",
              "    </tr>\n",
              "    <tr>\n",
              "      <th>MP4 ou Ipod</th>\n",
              "      <td>552</td>\n",
              "      <td>1</td>\n",
              "      <td>True</td>\n",
              "      <td>552</td>\n",
              "    </tr>\n",
              "    <tr>\n",
              "      <th>Móveis</th>\n",
              "      <td>45</td>\n",
              "      <td>1</td>\n",
              "      <td>True</td>\n",
              "      <td>45</td>\n",
              "    </tr>\n",
              "    <tr>\n",
              "      <th>Notebook</th>\n",
              "      <td>764</td>\n",
              "      <td>1</td>\n",
              "      <td>True</td>\n",
              "      <td>764</td>\n",
              "    </tr>\n",
              "    <tr>\n",
              "      <th>Outros</th>\n",
              "      <td>5243</td>\n",
              "      <td>1</td>\n",
              "      <td>True</td>\n",
              "      <td>5243</td>\n",
              "    </tr>\n",
              "    <tr>\n",
              "      <th>Relógio</th>\n",
              "      <td>1350</td>\n",
              "      <td>1</td>\n",
              "      <td>True</td>\n",
              "      <td>1350</td>\n",
              "    </tr>\n",
              "    <tr>\n",
              "      <th>Som</th>\n",
              "      <td>106</td>\n",
              "      <td>1</td>\n",
              "      <td>True</td>\n",
              "      <td>106</td>\n",
              "    </tr>\n",
              "    <tr>\n",
              "      <th>Tablet</th>\n",
              "      <td>443</td>\n",
              "      <td>1</td>\n",
              "      <td>True</td>\n",
              "      <td>443</td>\n",
              "    </tr>\n",
              "    <tr>\n",
              "      <th>Tv</th>\n",
              "      <td>178</td>\n",
              "      <td>1</td>\n",
              "      <td>True</td>\n",
              "      <td>178</td>\n",
              "    </tr>\n",
              "  </tbody>\n",
              "</table>\n",
              "</div>\n",
              "      <button class=\"colab-df-convert\" onclick=\"convertToInteractive('df-6dd4c4f7-48b7-4aa9-b7d8-651a3a200d78')\"\n",
              "              title=\"Convert this dataframe to an interactive table.\"\n",
              "              style=\"display:none;\">\n",
              "        \n",
              "  <svg xmlns=\"http://www.w3.org/2000/svg\" height=\"24px\"viewBox=\"0 0 24 24\"\n",
              "       width=\"24px\">\n",
              "    <path d=\"M0 0h24v24H0V0z\" fill=\"none\"/>\n",
              "    <path d=\"M18.56 5.44l.94 2.06.94-2.06 2.06-.94-2.06-.94-.94-2.06-.94 2.06-2.06.94zm-11 1L8.5 8.5l.94-2.06 2.06-.94-2.06-.94L8.5 2.5l-.94 2.06-2.06.94zm10 10l.94 2.06.94-2.06 2.06-.94-2.06-.94-.94-2.06-.94 2.06-2.06.94z\"/><path d=\"M17.41 7.96l-1.37-1.37c-.4-.4-.92-.59-1.43-.59-.52 0-1.04.2-1.43.59L10.3 9.45l-7.72 7.72c-.78.78-.78 2.05 0 2.83L4 21.41c.39.39.9.59 1.41.59.51 0 1.02-.2 1.41-.59l7.78-7.78 2.81-2.81c.8-.78.8-2.07 0-2.86zM5.41 20L4 18.59l7.72-7.72 1.47 1.35L5.41 20z\"/>\n",
              "  </svg>\n",
              "      </button>\n",
              "      \n",
              "  <style>\n",
              "    .colab-df-container {\n",
              "      display:flex;\n",
              "      flex-wrap:wrap;\n",
              "      gap: 12px;\n",
              "    }\n",
              "\n",
              "    .colab-df-convert {\n",
              "      background-color: #E8F0FE;\n",
              "      border: none;\n",
              "      border-radius: 50%;\n",
              "      cursor: pointer;\n",
              "      display: none;\n",
              "      fill: #1967D2;\n",
              "      height: 32px;\n",
              "      padding: 0 0 0 0;\n",
              "      width: 32px;\n",
              "    }\n",
              "\n",
              "    .colab-df-convert:hover {\n",
              "      background-color: #E2EBFA;\n",
              "      box-shadow: 0px 1px 2px rgba(60, 64, 67, 0.3), 0px 1px 3px 1px rgba(60, 64, 67, 0.15);\n",
              "      fill: #174EA6;\n",
              "    }\n",
              "\n",
              "    [theme=dark] .colab-df-convert {\n",
              "      background-color: #3B4455;\n",
              "      fill: #D2E3FC;\n",
              "    }\n",
              "\n",
              "    [theme=dark] .colab-df-convert:hover {\n",
              "      background-color: #434B5C;\n",
              "      box-shadow: 0px 1px 3px 1px rgba(0, 0, 0, 0.15);\n",
              "      filter: drop-shadow(0px 1px 2px rgba(0, 0, 0, 0.3));\n",
              "      fill: #FFFFFF;\n",
              "    }\n",
              "  </style>\n",
              "\n",
              "      <script>\n",
              "        const buttonEl =\n",
              "          document.querySelector('#df-6dd4c4f7-48b7-4aa9-b7d8-651a3a200d78 button.colab-df-convert');\n",
              "        buttonEl.style.display =\n",
              "          google.colab.kernel.accessAllowed ? 'block' : 'none';\n",
              "\n",
              "        async function convertToInteractive(key) {\n",
              "          const element = document.querySelector('#df-6dd4c4f7-48b7-4aa9-b7d8-651a3a200d78');\n",
              "          const dataTable =\n",
              "            await google.colab.kernel.invokeFunction('convertToInteractive',\n",
              "                                                     [key], {});\n",
              "          if (!dataTable) return;\n",
              "\n",
              "          const docLinkHtml = 'Like what you see? Visit the ' +\n",
              "            '<a target=\"_blank\" href=https://colab.research.google.com/notebooks/data_table.ipynb>data table notebook</a>'\n",
              "            + ' to learn more about interactive tables.';\n",
              "          element.innerHTML = '';\n",
              "          dataTable['output_type'] = 'display_data';\n",
              "          await google.colab.output.renderOutput(dataTable, element);\n",
              "          const docLink = document.createElement('div');\n",
              "          docLink.innerHTML = docLinkHtml;\n",
              "          element.appendChild(docLink);\n",
              "        }\n",
              "      </script>\n",
              "    </div>\n",
              "  </div>\n",
              "  "
            ]
          },
          "metadata": {},
          "execution_count": 49
        }
      ]
    },
    {
      "cell_type": "code",
      "source": [
        "obj_porc = df2_objetos['count'] / df2_objetos['count'].sum()*100\n",
        "obj_porc"
      ],
      "metadata": {
        "colab": {
          "base_uri": "https://localhost:8080/"
        },
        "id": "FrYCoxNvo7fq",
        "outputId": "e5297f84-5a48-4b9c-c5ec-d345c6fe58a3"
      },
      "execution_count": 50,
      "outputs": [
        {
          "output_type": "execute_result",
          "data": {
            "text/plain": [
              "Bicicleta              0.750227\n",
              "Bolsa ou Mochila      10.640917\n",
              "Carteira              12.434428\n",
              "Cartão de Crédito      8.135275\n",
              "Celular               24.549424\n",
              "Computador             0.328224\n",
              "DVD                    0.275474\n",
              "Dinheiro               5.069894\n",
              "Documentos            10.725903\n",
              "Equipamento de Som     0.700407\n",
              "Estepe                 0.949506\n",
              "MP4 ou Ipod            1.617677\n",
              "Móveis                 0.131876\n",
              "Notebook               2.238959\n",
              "Outros                15.365003\n",
              "Relógio                3.956276\n",
              "Som                    0.310641\n",
              "Tablet                 1.298245\n",
              "Tv                     0.521642\n",
              "Name: count, dtype: object"
            ]
          },
          "metadata": {},
          "execution_count": 50
        }
      ]
    },
    {
      "cell_type": "code",
      "source": [
        "lista2 = []\n",
        "lista2.append(df[(df['valor_prejuizo']== 0 ) & (df['sexo'] == 'MASCULINO')].shape[0])\n",
        "for i in lista2:\n",
        "  print(f'{i} homens tiveram R$0,00 reais de prejuizo')"
      ],
      "metadata": {
        "colab": {
          "base_uri": "https://localhost:8080/"
        },
        "id": "cuzEcTF7pNSv",
        "outputId": "dc35d2d1-1a0a-4cc6-b0c2-7e32e6aefaf0"
      },
      "execution_count": 52,
      "outputs": [
        {
          "output_type": "stream",
          "name": "stdout",
          "text": [
            "1285 homens tiveram R$0,00 reais de prejuizo\n"
          ]
        }
      ]
    },
    {
      "cell_type": "code",
      "source": [
        "lista2.append(df[(df['valor_prejuizo']== 0 ) & (df['sexo'] == 'FEMININO')].shape[0])\n",
        "for i in lista2:\n",
        "  print(f'{i} mulheres tiveram R$0,00 reais de prejuizo')"
      ],
      "metadata": {
        "colab": {
          "base_uri": "https://localhost:8080/"
        },
        "id": "q9UY77kuBjtF",
        "outputId": "c4080e06-43f7-47bc-8c24-109a1de3a22d"
      },
      "execution_count": 53,
      "outputs": [
        {
          "output_type": "stream",
          "name": "stdout",
          "text": [
            "1285 mulheres tiveram R$0,00 reais de prejuizo\n",
            "922 mulheres tiveram R$0,00 reais de prejuizo\n"
          ]
        }
      ]
    },
    {
      "cell_type": "markdown",
      "source": [
        "## PREJUÍZO\n"
      ],
      "metadata": {
        "id": "KoZAe4-WB9Ne"
      }
    },
    {
      "cell_type": "code",
      "source": [
        "paleta1 = sns.color_palette(\"Blues\",16)\n",
        "fig = plt.figure(figsize=(15,5))\n",
        "plt.yticks(fontsize=13)\n",
        "plt.xticks(fontsize=13)\n",
        "plt.xlabel('',fontsize=0)\n",
        "sns.barplot(x = 'freq', y = df2_objetos.index, order = ['Móveis','DVD','Som','Computador','Tv','Bicicleta','Estepe','Tablet','MP4 ou Ipod','Relógio','Dinheiro','Cartão de Crédito','Bolsa ou Mochila','Carteira','Outros','Celular'], palette=paleta1,data = df2_objetos);\n"
      ],
      "metadata": {
        "colab": {
          "base_uri": "https://localhost:8080/",
          "height": 328
        },
        "id": "MEdtGMzrCAzV",
        "outputId": "f4b4e959-f23b-49a1-e195-ac14c97e5e07"
      },
      "execution_count": 55,
      "outputs": [
        {
          "output_type": "display_data",
          "data": {
            "text/plain": [
              "<Figure size 1080x360 with 1 Axes>"
            ],
            "image/png": "[encoded data removed]"
          },
          "metadata": {
            "needs_background": "light"
          }
        }
      ]
    },
    {
      "cell_type": "code",
      "source": [
        "fig = plt.figure(figsize=(10,5))\n",
        "sns.boxplot(x='sexo',y='valor_prejuizo',showfliers=False,hue='registrou_bo',data=df)\n",
        "plt.ylim(0,10000)\n",
        "plt.title('Valor do prejuízo para diferentes vítimas')\n",
        "plt.legend(title='Registrou BO?')\n",
        "plt.ylabel('Valor do prejuízo',fontsize=15)\n",
        "plt.xlabel('')"
      ],
      "metadata": {
        "colab": {
          "base_uri": "https://localhost:8080/",
          "height": 353
        },
        "id": "6XwQn2cDCNc5",
        "outputId": "6ee45a09-0b68-471b-fb5c-08fd55038274"
      },
      "execution_count": 57,
      "outputs": [
        {
          "output_type": "execute_result",
          "data": {
            "text/plain": [
              "Text(0.5, 0, '')"
            ]
          },
          "metadata": {},
          "execution_count": 57
        },
        {
          "output_type": "display_data",
          "data": {
            "text/plain": [
              "<Figure size 720x360 with 1 Axes>"
            ],
            "image/png": "[encoded data removed]"
          },
          "metadata": {
            "needs_background": "light"
          }
        }
      ]
    },
    {
      "cell_type": "code",
      "source": [
        "fig = plt.figure(figsize=(10,5))\n",
        "sns.violinplot(x='sexo',y='valor_prejuizo',data=df)\n",
        "plt.ylim(0,20000)\n",
        "plt.title('Concentração de prejuízo por sexo',fontsize=21)\n",
        "plt.ylabel('Valor do prejuízo',fontsize=13)\n",
        "plt.xlabel('');\n"
      ],
      "metadata": {
        "colab": {
          "base_uri": "https://localhost:8080/",
          "height": 343
        },
        "id": "la74ibEMCT3R",
        "outputId": "466fc10f-6b04-4a5b-ea49-b388fdd7f10c"
      },
      "execution_count": 58,
      "outputs": [
        {
          "output_type": "display_data",
          "data": {
            "text/plain": [
              "<Figure size 720x360 with 1 Axes>"
            ],
            "image/png": "[encoded data removed]"
          },
          "metadata": {
            "needs_background": "light"
          }
        }
      ]
    },
    {
      "cell_type": "markdown",
      "source": [
        "# Onde foi roubado?\n"
      ],
      "metadata": {
        "id": "hNKbJ5wZC09G"
      }
    },
    {
      "cell_type": "code",
      "source": [
        "df['bairro'].value_counts().max()"
      ],
      "metadata": {
        "colab": {
          "base_uri": "https://localhost:8080/"
        },
        "id": "3c5ZL61eDEMW",
        "outputId": "08f26239-eaaf-4d06-9578-545e7dcd3d66"
      },
      "execution_count": 59,
      "outputs": [
        {
          "output_type": "execute_result",
          "data": {
            "text/plain": [
              "630"
            ]
          },
          "metadata": {},
          "execution_count": 59
        }
      ]
    },
    {
      "cell_type": "code",
      "source": [
        "df['bairro'].value_counts().min()"
      ],
      "metadata": {
        "colab": {
          "base_uri": "https://localhost:8080/"
        },
        "id": "gPYiYAM5D8i8",
        "outputId": "69f232bb-a90d-4bd0-848f-6e73e6149928"
      },
      "execution_count": 61,
      "outputs": [
        {
          "output_type": "execute_result",
          "data": {
            "text/plain": [
              "1"
            ]
          },
          "metadata": {},
          "execution_count": 61
        }
      ]
    },
    {
      "cell_type": "code",
      "source": [
        "# coletando e ordenando os valores para cada bairro\n",
        "paleta2 = sns.color_palette(\"Blues_r\",37)\n",
        "bairros = df_clean.bairro.value_counts().sort_values(ascending=False).iloc[0:30]\n",
        "fig = plt.figure(figsize=(15,10))\n",
        "sns.barplot(bairros.values, bairros.index,palette=paleta2,data=df);\n",
        "\n",
        "plt.ylabel('')\n",
        "plt.xlabel('')\n",
        "plt.yticks(fontsize=13)\n",
        "plt.title('Número de Crimes por Bairro',fontsize=19);"
      ],
      "metadata": {
        "colab": {
          "base_uri": "https://localhost:8080/",
          "height": 669
        },
        "id": "MVxx_-w3DxDE",
        "outputId": "3011f3ea-4ed2-4fb2-bf67-502c17377e52"
      },
      "execution_count": 60,
      "outputs": [
        {
          "output_type": "stream",
          "name": "stderr",
          "text": [
            "/usr/local/lib/python3.8/dist-packages/seaborn/_decorators.py:36: FutureWarning: Pass the following variables as keyword args: x, y. From version 0.12, the only valid positional argument will be `data`, and passing other arguments without an explicit keyword will result in an error or misinterpretation.\n",
            "  warnings.warn(\n"
          ]
        },
        {
          "output_type": "display_data",
          "data": {
            "text/plain": [
              "<Figure size 1080x720 with 1 Axes>"
            ],
            "image/png": "[encoded data removed]"
          },
          "metadata": {
            "needs_background": "light"
          }
        }
      ]
    },
    {
      "cell_type": "markdown",
      "source": [
        "Podemos perceber que o bairro que tem mais crimes é São Paulo\n"
      ],
      "metadata": {
        "id": "X5Kbp3QMEJAG"
      }
    },
    {
      "cell_type": "markdown",
      "source": [
        "## Quando foi Roubado"
      ],
      "metadata": {
        "id": "-qgxPA-YEcmF"
      }
    },
    {
      "cell_type": "code",
      "source": [
        "df_clean.index.year.value_counts()"
      ],
      "metadata": {
        "colab": {
          "base_uri": "https://localhost:8080/"
        },
        "id": "jnv5nKSrEiZJ",
        "outputId": "dbfda2b4-33cd-45e8-8196-d3fa7e1515c1"
      },
      "execution_count": 62,
      "outputs": [
        {
          "output_type": "execute_result",
          "data": {
            "text/plain": [
              "2014    4079\n",
              "2013    2179\n",
              "2016    1857\n",
              "2017    1569\n",
              "2015     929\n",
              "2012     368\n",
              "2018     196\n",
              "2010      11\n",
              "2011       8\n",
              "Name: time, dtype: int64"
            ]
          },
          "metadata": {},
          "execution_count": 62
        }
      ]
    },
    {
      "cell_type": "code",
      "source": [
        "df_clean.index.month.value_counts()"
      ],
      "metadata": {
        "colab": {
          "base_uri": "https://localhost:8080/"
        },
        "id": "sjS36mitEwIJ",
        "outputId": "8d5f8bfb-3a75-45f9-995f-3b95fd663956"
      },
      "execution_count": 63,
      "outputs": [
        {
          "output_type": "execute_result",
          "data": {
            "text/plain": [
              "8     1290\n",
              "10    1151\n",
              "6     1107\n",
              "7     1034\n",
              "11    1020\n",
              "9     1013\n",
              "1      839\n",
              "5      817\n",
              "3      798\n",
              "2      787\n",
              "4      702\n",
              "12     638\n",
              "Name: time, dtype: int64"
            ]
          },
          "metadata": {},
          "execution_count": 63
        }
      ]
    },
    {
      "cell_type": "code",
      "source": [
        "df_clean.index.day.value_counts()"
      ],
      "metadata": {
        "colab": {
          "base_uri": "https://localhost:8080/"
        },
        "id": "lK4Sk_00E3NJ",
        "outputId": "9a07bd3d-2c09-4c65-b32b-e083d8f01927"
      },
      "execution_count": 64,
      "outputs": [
        {
          "output_type": "execute_result",
          "data": {
            "text/plain": [
              "11    463\n",
              "15    446\n",
              "10    443\n",
              "20    442\n",
              "14    412\n",
              "8     405\n",
              "1     403\n",
              "16    395\n",
              "13    384\n",
              "7     380\n",
              "12    378\n",
              "25    372\n",
              "4     362\n",
              "18    361\n",
              "6     361\n",
              "22    358\n",
              "5     354\n",
              "17    353\n",
              "9     352\n",
              "23    351\n",
              "3     348\n",
              "26    346\n",
              "19    342\n",
              "24    336\n",
              "2     328\n",
              "21    326\n",
              "27    319\n",
              "28    313\n",
              "30    303\n",
              "29    274\n",
              "31    186\n",
              "Name: time, dtype: int64"
            ]
          },
          "metadata": {},
          "execution_count": 64
        }
      ]
    },
    {
      "cell_type": "code",
      "source": [
        "df_clean.index.weekday.value_counts()"
      ],
      "metadata": {
        "colab": {
          "base_uri": "https://localhost:8080/"
        },
        "id": "OFX38HYZFTZg",
        "outputId": "b5cce5e8-82dd-49c9-f84b-0414d9ca5097"
      },
      "execution_count": 65,
      "outputs": [
        {
          "output_type": "execute_result",
          "data": {
            "text/plain": [
              "4    1819\n",
              "2    1797\n",
              "3    1776\n",
              "1    1658\n",
              "5    1491\n",
              "0    1420\n",
              "6    1235\n",
              "Name: time, dtype: int64"
            ]
          },
          "metadata": {},
          "execution_count": 65
        }
      ]
    },
    {
      "cell_type": "code",
      "source": [
        "# criando a visualização\n",
        "fig = plt.figure(figsize=(10,8))\n",
        "df_clean.groupby([df_clean.index.year]).size().plot(kind='bar')\n",
        "# definindo o título da visualização\n",
        "plt.title('Número de Crimes por Ano',fontsize=19)\n",
        "plt.xlabel('')\n",
        "plt.yticks(fontsize=13)\n",
        "plt.xticks(fontsize=13,rotation=360);\n",
        "     "
      ],
      "metadata": {
        "colab": {
          "base_uri": "https://localhost:8080/",
          "height": 508
        },
        "id": "XA-v5uULFcuP",
        "outputId": "8c6e3d77-c57f-4cae-9d57-154b9d023b23"
      },
      "execution_count": 66,
      "outputs": [
        {
          "output_type": "display_data",
          "data": {
            "text/plain": [
              "<Figure size 720x576 with 1 Axes>"
            ],
            "image/png": "[encoded data removed]"
          },
          "metadata": {
            "needs_background": "light"
          }
        }
      ]
    },
    {
      "cell_type": "code",
      "source": [
        "fig = plt.figure(figsize=(17,5))\n",
        "df_clean.groupby([df_clean.index.month]).size().plot(kind='bar')\n",
        "plt.title('Meses do ano',fontsize=19)\n",
        "plt.xticks(fontsize=13,rotation=360)\n",
        "plt.xlabel('')\n",
        "plt.yticks(fontsize=13);\n"
      ],
      "metadata": {
        "colab": {
          "base_uri": "https://localhost:8080/",
          "height": 344
        },
        "id": "huci1oVHFmXe",
        "outputId": "399f27fc-919c-4c70-f7e0-36a0d7ad775a"
      },
      "execution_count": 67,
      "outputs": [
        {
          "output_type": "display_data",
          "data": {
            "text/plain": [
              "<Figure size 1224x360 with 1 Axes>"
            ],
            "image/png": "[encoded data removed]"
          },
          "metadata": {
            "needs_background": "light"
          }
        }
      ]
    },
    {
      "cell_type": "code",
      "source": [
        "fig = plt.figure(figsize=(15,5))\n",
        "df_clean.groupby([df_clean.index.day]).size().plot.bar()\n",
        "plt.title('Dias do mês',fontsize=19)\n",
        "plt.xticks(fontsize=13,rotation=360)\n",
        "plt.xlabel('')\n",
        "plt.yticks(fontsize=13);"
      ],
      "metadata": {
        "colab": {
          "base_uri": "https://localhost:8080/",
          "height": 344
        },
        "id": "no8ZhXdaFqUu",
        "outputId": "5f3c0b48-ba2d-4447-e73a-5adc14c7c200"
      },
      "execution_count": 68,
      "outputs": [
        {
          "output_type": "display_data",
          "data": {
            "text/plain": [
              "<Figure size 1080x360 with 1 Axes>"
            ],
            "image/png": "[encoded data removed]"
          },
          "metadata": {
            "needs_background": "light"
          }
        }
      ]
    },
    {
      "cell_type": "code",
      "source": [
        "fig = plt.figure(figsize=(10,5))\n",
        "df_clean.groupby([df_clean.index.weekday]).size().plot.bar()\n",
        "plt.title('Dias da semana',fontsize=19)\n",
        "plt.xticks(fontsize=13,rotation=360)\n",
        "plt.xlabel('')\n",
        "plt.yticks(fontsize=13);"
      ],
      "metadata": {
        "colab": {
          "base_uri": "https://localhost:8080/",
          "height": 344
        },
        "id": "phXIeMNsFw1m",
        "outputId": "c93b3f79-17a1-41eb-b34d-a5c1ed7f794a"
      },
      "execution_count": 69,
      "outputs": [
        {
          "output_type": "display_data",
          "data": {
            "text/plain": [
              "<Figure size 720x360 with 1 Axes>"
            ],
            "image/png": "[encoded data removed]"
          },
          "metadata": {
            "needs_background": "light"
          }
        }
      ]
    },
    {
      "cell_type": "markdown",
      "source": [
        "# Conclusões\n",
        "Temos várias conclusões através dos dados disponibilizados pela a plataforma\n",
        "*   A maioria das pessoas roubadas são homens com **61,25%**;\n",
        "*   **59,31%** das pessoas registram Boletim de Ocorrência;\n",
        "*   O maior prejuízo foi o valor de **1 milhão de reais**, dentre o período em que os dados estão disponibilizados;\n",
        "*   O objeto que mais é roubado no estado de São Paulo é o celular cerca de **8377** ou **24 %** do toal de objetos;\n",
        "*   O bairro onde se concentra mais crimes é São Paulo com **633 crimes**;\n",
        "*   O ano em que ocorreu mais crimes, foi em **2014**, para ser mais específico, com **4079** casos.\n",
        "\n",
        "\n",
        "\n",
        "\n",
        "\n",
        "\n",
        "\n",
        "\n",
        "\n",
        "\n",
        "\n",
        "\n"
      ],
      "metadata": {
        "id": "8g9_s4LhFzRB"
      }
    }
  ]
}